{
 "cells": [
  {
   "cell_type": "code",
   "execution_count": 2,
   "id": "67889db7",
   "metadata": {},
   "outputs": [
    {
     "name": "stdout",
     "output_type": "stream",
     "text": [
      "pls input a integer：\n"
     ]
    },
    {
     "ename": "ValueError",
     "evalue": "invalid literal for int() with base 10: ''",
     "output_type": "error",
     "traceback": [
      "\u001b[1;31m---------------------------------------------------------------------------\u001b[0m",
      "\u001b[1;31mValueError\u001b[0m                                Traceback (most recent call last)",
      "Cell \u001b[1;32mIn[2], line 1\u001b[0m\n\u001b[1;32m----> 1\u001b[0m n \u001b[38;5;241m=\u001b[39m \u001b[38;5;28mint\u001b[39m(\u001b[38;5;28minput\u001b[39m(\u001b[38;5;124m\"\u001b[39m\u001b[38;5;124mpls input a integer：\u001b[39m\u001b[38;5;124m\"\u001b[39m))\n\u001b[0;32m      3\u001b[0m list3 \u001b[38;5;241m=\u001b[39m []\n\u001b[0;32m      5\u001b[0m \u001b[38;5;28;01mwhile\u001b[39;00m n \u001b[38;5;241m!=\u001b[39m \u001b[38;5;241m-\u001b[39m\u001b[38;5;241m1\u001b[39m:\n",
      "\u001b[1;31mValueError\u001b[0m: invalid literal for int() with base 10: ''"
     ]
    }
   ],
   "source": [
    "n = int(input(\"pls input a integer：\"))\n",
    "\n",
    "list3 = []\n",
    "\n",
    "while n != -1:\n",
    "\n",
    "  list3.append(n)\n",
    "\n",
    "  n = int(input(\"pls input a integer：\"))\n",
    "\n",
    "else:\n",
    "\n",
    "  print(\"end of the input\")\n",
    "\n",
    "print(list3)\n",
    "\n",
    "list1 = []\n",
    "\n",
    "list2 = []\n",
    "\n",
    "for i in list3:\n",
    "\n",
    "    if i % 2 != 0 :\n",
    "\n",
    "        list1.append(i)\n",
    "\n",
    "    else:\n",
    "\n",
    "        list2.append(i)\n",
    "\n",
    "print(\"sum of the odd\",list1,sum(list1))\n",
    "\n",
    "print(\"sum of the even\",list2,sum(list2))\n"
   ]
  },
  {
   "cell_type": "code",
   "execution_count": null,
   "id": "60f9dbb3",
   "metadata": {},
   "outputs": [],
   "source": [
    "\n",
    "grade = int(input(\"pls input the score：\"))\n",
    "\n",
    "list_grade = []\n",
    "\n",
    "while grade > 0:\n",
    "\n",
    "  list_grade.append(grade)\n",
    "\n",
    "  grade = int(input(\"pls input the score：\"))\n",
    "\n",
    "else:\n",
    "\n",
    "  print(\"input ending, now we count the score\")\n",
    "\n",
    "print(\"total result list is：\",list_grade)\n",
    "\n",
    "list1=[]\n",
    "\n",
    "list2=[]\n",
    "\n",
    "list3=[]\n",
    "\n",
    "list4=[]\n",
    "\n",
    "for i in list_grade:\n",
    "\n",
    "    if i >=90:\n",
    "\n",
    "        list1.append(i)\n",
    "\n",
    "    elif i>=80:\n",
    "\n",
    "        list2.append(i)\n",
    "\n",
    "    elif i>=60:\n",
    "\n",
    "        list3.append(i)\n",
    "\n",
    "    else:\n",
    "\n",
    "        list4.append(i)\n",
    "\n",
    "print(\"Excellent：\",len(list1),  \"Good：\",len(list2),\"Medium：\",len(list3),\"Poor：\",len(list4))"
   ]
  },
  {
   "cell_type": "code",
   "execution_count": null,
   "id": "177710b6",
   "metadata": {},
   "outputs": [],
   "source": [
    "numbers = []\n",
    "count = 0\n",
    "\n",
    "while count < 10:\n",
    "    num = int(input(\"请输入一个奇数：\"))\n",
    "    if num % 2 != 1:\n",
    "        print(\"输入的不是奇数，请重新输入。\")\n",
    "        continue\n",
    "    numbers.append(num)\n",
    "    count += 1\n",
    "\n",
    "sum_of_numbers = sum(numbers)\n",
    "average = sum_of_numbers / len(numbers)\n",
    "\n",
    "print(\"列表中的数字：\", numbers)\n",
    "print(\"列表的和：\", sum_of_numbers)\n",
    "print(\"列表的平均值：\", average)"
   ]
  },
  {
   "cell_type": "code",
   "execution_count": null,
   "id": "bf6a7411",
   "metadata": {},
   "outputs": [],
   "source": [
    "print(\"pls input 5 integers\")\n",
    "\n",
    "list1 = []\n",
    "\n",
    "for i in range(5):\n",
    "\n",
    "  n = int(input(\"pls input the\"+str(i+1)+\":\"))\n",
    "\n",
    "  list1.append(n)\n",
    "\n",
    "avg = sum(list1)/len(list1)\n",
    "\n",
    "list2 = [i for i in list1 if i > avg]\n",
    "\n",
    "print(\"Avg：\",avg,\"list2 is：\",list2)"
   ]
  },
  {
   "cell_type": "code",
   "execution_count": null,
   "id": "300e6183",
   "metadata": {},
   "outputs": [],
   "source": [
    "a = [1,9,8,7,6,5,13,3,2,1]\n",
    "\n",
    "b = [i for i in a if i %2 == 0]\n",
    "\n",
    "print(b)"
   ]
  },
  {
   "cell_type": "code",
   "execution_count": null,
   "id": "8fa12ce9",
   "metadata": {},
   "outputs": [],
   "source": []
  }
 ],
 "metadata": {
  "kernelspec": {
   "display_name": "Python 3 (ipykernel)",
   "language": "python",
   "name": "python3"
  },
  "language_info": {
   "codemirror_mode": {
    "name": "ipython",
    "version": 3
   },
   "file_extension": ".py",
   "mimetype": "text/x-python",
   "name": "python",
   "nbconvert_exporter": "python",
   "pygments_lexer": "ipython3",
   "version": "3.11.5"
  }
 },
 "nbformat": 4,
 "nbformat_minor": 5
}
