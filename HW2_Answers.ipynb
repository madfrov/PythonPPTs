{
 "cells": [
  {
   "cell_type": "code",
   "execution_count": 4,
   "id": "d7c2ea96",
   "metadata": {},
   "outputs": [
    {
     "name": "stdout",
     "output_type": "stream",
     "text": [
      "pls input a integer：2\n",
      "pls input a integer：3\n",
      "pls input a integer：4\n",
      "pls input a integer：12\n",
      "pls input a integer：234\n",
      "pls input a integer：222\n",
      "pls input a integer：-1\n",
      "end of the input\n",
      "[2, 3, 4, 12, 234, 222]\n",
      "sum of the odd [3] 3\n",
      "sum of the even [2, 4, 12, 234, 222] 474\n"
     ]
    }
   ],
   "source": [
    "n = int(input(\"pls input a integer：\"))\n",
    "\n",
    "list3 = []\n",
    "\n",
    "while n != -1:\n",
    "\n",
    "  list3.append(n)\n",
    "\n",
    "  n = int(input(\"pls input a integer：\"))\n",
    "\n",
    "else:\n",
    "\n",
    "  print(\"end of the input\")\n",
    "\n",
    "print(list3)\n",
    "\n",
    "list1 = []\n",
    "\n",
    "list2 = []\n",
    "\n",
    "for i in list3:\n",
    "\n",
    "    if i % 2 != 0 :\n",
    "\n",
    "        list1.append(i)\n",
    "\n",
    "    else:\n",
    "\n",
    "        list2.append(i)\n",
    "\n",
    "print(\"sum of the odd\",list1,sum(list1))\n",
    "\n",
    "print(\"sum of the even\",list2,sum(list2))\n"
   ]
  },
  {
   "cell_type": "code",
   "execution_count": 5,
   "id": "9d180b05",
   "metadata": {},
   "outputs": [
    {
     "name": "stdout",
     "output_type": "stream",
     "text": [
      "pls input the score：68\n",
      "pls input the score：75\n",
      "pls input the score：32\n",
      "pls input the score：99\n",
      "pls input the score：78\n",
      "pls input the score：45\n",
      "pls input the score：88\n",
      "pls input the score：72\n",
      "pls input the score：83\n",
      "pls input the score：78\n",
      "pls input the score：-1\n",
      "input ending, now we count the score\n",
      "total result list is： [68, 75, 32, 99, 78, 45, 88, 72, 83, 78]\n",
      "Excellent： 1 Good： 2 Medium： 5 Poor： 2\n"
     ]
    }
   ],
   "source": [
    "\n",
    "grade = int(input(\"pls input the score：\"))\n",
    "\n",
    "list_grade = []\n",
    "\n",
    "while grade > 0:\n",
    "\n",
    "  list_grade.append(grade)\n",
    "\n",
    "  grade = int(input(\"pls input the score：\"))\n",
    "\n",
    "else:\n",
    "\n",
    "  print(\"input ending, now we count the score\")\n",
    "\n",
    "print(\"total result list is：\",list_grade)\n",
    "\n",
    "list1=[]\n",
    "\n",
    "list2=[]\n",
    "\n",
    "list3=[]\n",
    "\n",
    "list4=[]\n",
    "\n",
    "for i in list_grade:\n",
    "\n",
    "    if i >=90:\n",
    "\n",
    "        list1.append(i)\n",
    "\n",
    "    elif i>=80:\n",
    "\n",
    "        list2.append(i)\n",
    "\n",
    "    elif i>=60:\n",
    "\n",
    "        list3.append(i)\n",
    "\n",
    "    else:\n",
    "\n",
    "        list4.append(i)\n",
    "\n",
    "print(\"Excellent：\",len(list1),  \"Good：\",len(list2),\"Medium：\",len(list3),\"Poor：\",len(list4))"
   ]
  },
  {
   "cell_type": "code",
   "execution_count": 6,
   "id": "9e2c10c4",
   "metadata": {},
   "outputs": [
    {
     "name": "stdout",
     "output_type": "stream",
     "text": [
      "请输入一个奇数：3\n",
      "请输入一个奇数：4\n",
      "输入的不是奇数，请重新输入。\n",
      "请输入一个奇数：3\n",
      "请输入一个奇数：5\n",
      "请输入一个奇数：6\n",
      "输入的不是奇数，请重新输入。\n",
      "请输入一个奇数：4\n",
      "输入的不是奇数，请重新输入。\n",
      "请输入一个奇数：5\n",
      "请输入一个奇数：6\n",
      "输入的不是奇数，请重新输入。\n",
      "请输入一个奇数：5\n",
      "请输入一个奇数：7\n",
      "请输入一个奇数：7\n",
      "请输入一个奇数：7\n",
      "请输入一个奇数：7\n",
      "请输入一个奇数：7\n",
      "列表中的数字： [3, 3, 5, 5, 5, 7, 7, 7, 7, 7]\n",
      "列表的和： 56\n",
      "列表的平均值： 5.6\n"
     ]
    }
   ],
   "source": [
    "numbers = []\n",
    "count = 0\n",
    "\n",
    "while count < 10:\n",
    "    num = int(input(\"请输入一个奇数：\"))\n",
    "    if num % 2 != 1:\n",
    "        print(\"输入的不是奇数，请重新输入。\")\n",
    "        continue\n",
    "    numbers.append(num)\n",
    "    count += 1\n",
    "\n",
    "sum_of_numbers = sum(numbers)\n",
    "average = sum_of_numbers / len(numbers)\n",
    "\n",
    "print(\"列表中的数字：\", numbers)\n",
    "print(\"列表的和：\", sum_of_numbers)\n",
    "print(\"列表的平均值：\", average)"
   ]
  },
  {
   "cell_type": "code",
   "execution_count": 7,
   "id": "892e911c",
   "metadata": {},
   "outputs": [
    {
     "name": "stdout",
     "output_type": "stream",
     "text": [
      "pls input 5 integers\n",
      "pls input the1:4\n",
      "pls input the2:5\n",
      "pls input the3:6\n",
      "pls input the4:7\n",
      "pls input the5:8\n",
      "Avg： 6.0 list2 is： [7, 8]\n"
     ]
    }
   ],
   "source": [
    "print(\"pls input 5 integers\")\n",
    "\n",
    "list1 = []\n",
    "\n",
    "for i in range(5):\n",
    "\n",
    "  n = int(input(\"pls input the\"+str(i+1)+\":\"))\n",
    "\n",
    "  list1.append(n)\n",
    "\n",
    "avg = sum(list1)/len(list1)\n",
    "\n",
    "list2 = [i for i in list1 if i > avg]\n",
    "\n",
    "print(\"Avg：\",avg,\"list2 is：\",list2)"
   ]
  },
  {
   "cell_type": "code",
   "execution_count": 8,
   "id": "ea4733c6",
   "metadata": {},
   "outputs": [
    {
     "name": "stdout",
     "output_type": "stream",
     "text": [
      "[8, 6, 2]\n"
     ]
    }
   ],
   "source": [
    "a = [1,9,8,7,6,5,13,3,2,1]\n",
    "\n",
    "b = [i for i in a if i %2 == 0]\n",
    "\n",
    "print(b)"
   ]
  },
  {
   "cell_type": "code",
   "execution_count": null,
   "id": "8bc5cf07",
   "metadata": {},
   "outputs": [],
   "source": []
  }
 ],
 "metadata": {
  "kernelspec": {
   "display_name": "Python 3 (ipykernel)",
   "language": "python",
   "name": "python3"
  },
  "language_info": {
   "codemirror_mode": {
    "name": "ipython",
    "version": 3
   },
   "file_extension": ".py",
   "mimetype": "text/x-python",
   "name": "python",
   "nbconvert_exporter": "python",
   "pygments_lexer": "ipython3",
   "version": "3.11.5"
  }
 },
 "nbformat": 4,
 "nbformat_minor": 5
}
