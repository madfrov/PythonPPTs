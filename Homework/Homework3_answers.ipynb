{
 "cells": [
  {
   "cell_type": "code",
   "execution_count": 6,
   "id": "7401cca6",
   "metadata": {
    "scrolled": true
   },
   "outputs": [
    {
     "name": "stdout",
     "output_type": "stream",
     "text": [
      "pls input a list of data,use commas to split     1,2,3,4,1,2,3,1,4,3\n",
      "Avg is 2.4\n",
      "Max is 4\n",
      "Min is 1\n",
      "Sort from smallest  [1, 1, 1, 2, 2, 3, 3, 3, 4, 4]\n"
     ]
    }
   ],
   "source": [
    "#1\n",
    "s = input(\"pls input a list of data,use commas to split     \").split(',')\n",
    "num = len(s)\n",
    "s = list(map(int,s)) # Convert the substrings to integers using map method\n",
    "summ=sum(s)\n",
    "average = summ/num\n",
    "maxx = max(s)\n",
    "minx = min(s)\n",
    "s.sort()\n",
    "print(\"Avg is\",average)\n",
    "print(\"Max is\",maxx)\n",
    "print(\"Min is\",minx)\n",
    "print(\"Sort from smallest \",s)   \n",
    "\n"
   ]
  },
  {
   "cell_type": "code",
   "execution_count": 7,
   "id": "d07d7588",
   "metadata": {},
   "outputs": [
    {
     "name": "stdout",
     "output_type": "stream",
     "text": [
      "请输入非空正整数列表，以空格分隔: 1 3 2 4 53 31 1 1 1\n",
      "按照数字重复出现次数从高到低排序的列表： [1, 1, 1, 1, 3, 2, 4, 53, 31]\n"
     ]
    }
   ],
   "source": [
    "#2\n",
    "from collections import Counter\n",
    "\n",
    "numbers_input = input(\"请输入非空正整数列表，以空格分隔: \").split()\n",
    "\n",
    "numbers_list = list(map(int, numbers_input))\n",
    "\n",
    "counter = Counter(numbers_list)\n",
    "\n",
    "numbers_list.sort(reverse=True,key=lambda x: counter[x])\n",
    "\n",
    "print(\"按照数字重复出现次数从高到低排序的列表：\", numbers_list)"
   ]
  },
  {
   "cell_type": "code",
   "execution_count": 8,
   "id": "dece01a5",
   "metadata": {},
   "outputs": [
    {
     "name": "stdout",
     "output_type": "stream",
     "text": [
      "请输入非空正整数列表，以空格分隔: 1 2 3 4 1 2 3 1 2 3 4 2 1\n",
      "去重后的元素为：[1, 2, 3, 4]\n"
     ]
    }
   ],
   "source": [
    "#3\n",
    "ls2=[]\n",
    "# 获取用户输入的字符串列表\n",
    "ls1 = input(\"请输入非空正整数列表，以空格分隔: \").split()\n",
    "\n",
    "# 将字符串列表转换为整数列表\n",
    "ls = list(map(int, ls1))\n",
    "for i in ls:\n",
    "      if  i  not in  ls2:\n",
    "            ls2.append(i)\n",
    "print(\"去重后的元素为：%s\" %ls2)"
   ]
  },
  {
   "cell_type": "code",
   "execution_count": 9,
   "id": "7b724359",
   "metadata": {},
   "outputs": [
    {
     "name": "stdout",
     "output_type": "stream",
     "text": [
      "请输入第1位选手的评分：100\n",
      "请输入第2位选手的评分：88\n",
      "请输入第3位选手的评分：44\n",
      "请输入第4位选手的评分：55\n",
      "请输入第5位选手的评分：77\n",
      "[88.0, 55.0, 77.0]\n",
      "选手的最终得分是：73.33\n"
     ]
    }
   ],
   "source": [
    "#4\n",
    "total_score=[]\n",
    "for i in range(5):\n",
    "    score=float(input(f\"请输入第{i+1}位选手的评分：\"))\n",
    "    total_score.append(score)#把每个评委输入的分数都存到列表中\n",
    "max_score=max(total_score)#找到列表中的最大值\n",
    "min_score=min(total_score)#找到列表中的最小值\n",
    "#remove方法用于删除某个元素\n",
    "total_score.remove(max_score)\n",
    "total_score.remove(min_score)\n",
    "print(total_score)\n",
    "#sum函数用于计算列表中所以元素的总和，len函数计算列表的长度\n",
    "avg=sum(total_score)/len(total_score)\n",
    "print(\"选手的最终得分是：{:.2f}\".format(avg))"
   ]
  },
  {
   "cell_type": "code",
   "execution_count": 10,
   "id": "17a039c8",
   "metadata": {},
   "outputs": [
    {
     "name": "stdout",
     "output_type": "stream",
     "text": [
      "pls input the number in the matrix:   1 3 5\n",
      "pls input the number in the matrix:   2 6 8\n",
      "pls input the number in the matrix:   7 9 4\n",
      "[[1, 2, 7], [3, 6, 9], [5, 8, 4]]\n"
     ]
    }
   ],
   "source": [
    "#5matrix=[[1,3,5],[2,6,8],[7,9,4]] \n",
    "matrix = []\n",
    "for i in range(3):\n",
    "    matrix.append([int(j) for j in input(\"pls input the number in the matrix:   \").split()])\n",
    "new_matrix=[]\n",
    "for i in range(len(matrix[0])):\n",
    "#len(matrix[0])找第一行的长度，也就是找此矩阵的列数\n",
    "    new_row=[] #用来保存新矩阵中每一行的元素\n",
    "    for old_row in matrix:#遍历矩阵中每一行\n",
    "#当i=1时，第一次循环把第一行中第一个元素添加到new_row列表，第二次循环把第二行中第一个元素添加到new_row列表。。。。\n",
    "#当i=2时，重复遍历矩阵每一行的第二个元素\n",
    "        new_row.append(old_row[i])\n",
    "    new_matrix.append(new_row)#把每一行的元素都添加到新矩阵列表中\n",
    "print(new_matrix)"
   ]
  },
  {
   "cell_type": "code",
   "execution_count": null,
   "id": "bf397ad1",
   "metadata": {},
   "outputs": [],
   "source": []
  }
 ],
 "metadata": {
  "kernelspec": {
   "display_name": "Python 3 (ipykernel)",
   "language": "python",
   "name": "python3"
  },
  "language_info": {
   "codemirror_mode": {
    "name": "ipython",
    "version": 3
   },
   "file_extension": ".py",
   "mimetype": "text/x-python",
   "name": "python",
   "nbconvert_exporter": "python",
   "pygments_lexer": "ipython3",
   "version": "3.11.5"
  }
 },
 "nbformat": 4,
 "nbformat_minor": 5
}
